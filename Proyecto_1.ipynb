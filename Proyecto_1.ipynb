{
  "nbformat": 4,
  "nbformat_minor": 0,
  "metadata": {
    "colab": {
      "name": "Proyecto 1",
      "provenance": [],
      "authorship_tag": "ABX9TyO4LIYSGx9kvtpClEolIwkN"
    },
    "kernelspec": {
      "name": "python3",
      "display_name": "Python 3"
    },
    "language_info": {
      "name": "python"
    }
  },
  "cells": [
    {
      "cell_type": "code",
      "execution_count": null,
      "metadata": {
        "id": "ySWv9Xxsjpv6"
      },
      "outputs": [],
      "source": [
        ""
      ]
    }
  ]
}